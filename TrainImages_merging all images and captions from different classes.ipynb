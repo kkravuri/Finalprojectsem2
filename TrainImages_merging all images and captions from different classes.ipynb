{
 "cells": [
  {
   "cell_type": "markdown",
   "id": "4b46e05b",
   "metadata": {},
   "source": [
    "#Train images merging all images and captions from different classes and cleanup"
   ]
  },
  {
   "cell_type": "code",
   "execution_count": 5,
   "id": "3b5c99dd",
   "metadata": {},
   "outputs": [
    {
     "name": "stdout",
     "output_type": "stream",
     "text": [
      "Class 'baseball' contains 2441 images.\n",
      "Class 'bicycle' contains 973 images.\n",
      "Class 'birds' contains 1576 images.\n",
      "Class 'boat' contains 1561 images.\n",
      "Class 'bus' contains 2127 images.\n",
      "Class 'car' contains 3155 images.\n",
      "Class 'cat' contains 2794 images.\n",
      "Class 'dog' contains 3537 images.\n",
      "Class 'elephant' contains 1126 images.\n",
      "Class 'horse' contains 1518 images.\n",
      "Class 'motorbikes' contains 150 images.\n",
      "Class 'plane' contains 2255 images.\n",
      "Class 'surfboard' contains 1720 images.\n",
      "Class 'train' contains 2651 images.\n",
      "Class 'truck' contains 1404 images.\n",
      "Class 'zebra' contains 1405 images.\n",
      "totalimages 30393\n"
     ]
    }
   ],
   "source": [
    "import os\n",
    "import shutil\n",
    "\n",
    "# Function to read captions from a file\n",
    "def read_captions(file_path):\n",
    "    with open(file_path, 'r', encoding='utf-8') as f:\n",
    "        captions = f.readlines()\n",
    "    captions = [caption.strip() for caption in captions]\n",
    "    return captions\n",
    "\n",
    "# Path to the directory containing image folders\n",
    "data_dir = 'selected_images_coco_train'\n",
    "\n",
    "# Output folder for all images and captions\n",
    "output_folder = 'Mergeddataset_train'\n",
    "os.makedirs(output_folder, exist_ok=True)\n",
    "\n",
    "# Output folder for images\n",
    "output_image_folder = os.path.join(output_folder, 'Images')\n",
    "os.makedirs(output_image_folder, exist_ok=True)\n",
    "\n",
    "# Dictionary to store all captions by image filename\n",
    "image_captions = {}\n",
    "total_imagesCount = 0\n",
    "\n",
    "# Loop through each folder\n",
    "for folder_name in os.listdir(data_dir):\n",
    "    folder_path = os.path.join(data_dir, folder_name)\n",
    "    if os.path.isdir(folder_path):\n",
    "        # Count of images in the folder\n",
    "        image_count = 0\n",
    "        \n",
    "        # Loop through image files in the folder\n",
    "        for file_name in os.listdir(folder_path):\n",
    "            if file_name.endswith('.jpg'):  # Assuming images have .jpg extension\n",
    "                image_count += 1\n",
    "                # Copy image to the output folder\n",
    "                img_path = os.path.join(folder_path, file_name)\n",
    "                shutil.copy(img_path, output_image_folder)\n",
    "                image_id = (file_name.split('_')[2]).split('.')[0]\n",
    "                \n",
    "                \n",
    "                image_id = image_id.lstrip(\"0\")\n",
    "                # Read captions from the corresponding caption file\n",
    "                caption_file_name = image_id + '_captions.txt'\n",
    "                caption_file_path = os.path.join(folder_path, caption_file_name)\n",
    "                captions = read_captions(caption_file_path)\n",
    "                length_of_captions = len(captions)\n",
    "                # Add image filename and its captions to the dictionary            \n",
    "\n",
    "                if length_of_captions > 5:                   \n",
    "                    captions = [caption for caption in captions if caption.strip()]\n",
    "                image_captions[file_name] = captions\n",
    "\n",
    "        # Print total count of images in the folder\n",
    "        total_imagesCount = total_imagesCount + image_count\n",
    "        print(f\"Class '{folder_name}' contains {image_count} images.\")\n",
    "\n",
    "# Write all image filenames and their respective captions to a single text file\n",
    "print('totalimages', total_imagesCount)\n",
    "output_caption_file = os.path.join(output_folder, 'image_captions.txt')\n",
    "with open(output_caption_file, 'w', encoding='utf-8') as f:\n",
    "    for img_name, captions in image_captions.items():\n",
    "        for caption in captions:\n",
    "            f.write(f\"{img_name}, {caption}\\n\")\n"
   ]
  },
  {
   "cell_type": "code",
   "execution_count": null,
   "id": "b52f72a2",
   "metadata": {},
   "outputs": [],
   "source": []
  }
 ],
 "metadata": {
  "kernelspec": {
   "display_name": "Python 3 (ipykernel)",
   "language": "python",
   "name": "python3"
  },
  "language_info": {
   "codemirror_mode": {
    "name": "ipython",
    "version": 3
   },
   "file_extension": ".py",
   "mimetype": "text/x-python",
   "name": "python",
   "nbconvert_exporter": "python",
   "pygments_lexer": "ipython3",
   "version": "3.9.13"
  }
 },
 "nbformat": 4,
 "nbformat_minor": 5
}
