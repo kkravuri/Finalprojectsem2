{
 "cells": [
  {
   "cell_type": "code",
   "execution_count": 4,
   "id": "51c00390",
   "metadata": {},
   "outputs": [
    {
     "name": "stdout",
     "output_type": "stream",
     "text": [
      "image filename 1000268201_693b08cb0e.jpg\n",
      "caption image,caption\n",
      "image filename 1001773457_577c3a7d70.jpg\n",
      "caption 1000268201_693b08cb0e.jpg,A child in a pink dress is climbing up a set of stairs in an entry way .\n"
     ]
    }
   ],
   "source": [
    "import os\n",
    "import shutil\n",
    "\n",
    "def collect_images_with_captions(image_folder, caption_file, output_folder, num_images=1000):\n",
    "    # Create the output folder if it doesn't exist\n",
    "    if not os.path.exists(output_folder):\n",
    "        os.makedirs(output_folder)\n",
    "\n",
    "    # Read captions from the text file\n",
    "    with open(caption_file, 'r') as file:\n",
    "        captions = file.readlines()\n",
    "\n",
    "    # Get the list of image files in the input folder\n",
    "    image_files = [f for f in os.listdir(image_folder) if f.endswith(('.jpg', '.png'))]\n",
    "\n",
    "    # Ensure we don't try to collect more images than available\n",
    "    num_images = min(num_images, len(image_files))\n",
    "\n",
    "    # Copy the selected images to the output folder\n",
    "    for i in range(num_images):\n",
    "        image_filename = image_files[i]\n",
    "        print('image filename', image_filename)\n",
    "        caption = captions[i].strip()\n",
    "        print('caption', caption)\n",
    "\n",
    "        # Copy image\n",
    "        source_path = os.path.join(image_folder, image_filename)\n",
    "        destination_path = os.path.join(output_folder, image_filename)\n",
    "        \n",
    "        shutil.copyfile(source_path, destination_path)\n",
    "\n",
    "        # Write caption to a single text file in the output folder\n",
    "        captions_filename = \"captions.txt\"\n",
    "        captions_path = os.path.join(output_folder, captions_filename)\n",
    "        with open(captions_path, 'a') as captions_file:\n",
    "            captions_file.write(f\"{caption}\\n\")\n",
    "\n",
    "if __name__ == \"__main__\":\n",
    "    # Replace these paths with your actual paths\n",
    "    image_folder_path = \"./flickr/Images\"\n",
    "    caption_file_path = \"./flickr/captions.txt\"   \n",
    "    output_folder_path = \"./SmallDataset_new\"\n",
    "\n",
    "    # Specify the number of images you want to collect\n",
    "    num_images_to_collect = 2\n",
    "\n",
    "    # Call the function\n",
    "    collect_images_with_captions(image_folder_path, caption_file_path, output_folder_path, num_images_to_collect)\n"
   ]
  },
  {
   "cell_type": "code",
   "execution_count": null,
   "id": "fe481feb",
   "metadata": {},
   "outputs": [],
   "source": []
  }
 ],
 "metadata": {
  "kernelspec": {
   "display_name": "Python 3 (ipykernel)",
   "language": "python",
   "name": "python3"
  },
  "language_info": {
   "codemirror_mode": {
    "name": "ipython",
    "version": 3
   },
   "file_extension": ".py",
   "mimetype": "text/x-python",
   "name": "python",
   "nbconvert_exporter": "python",
   "pygments_lexer": "ipython3",
   "version": "3.9.13"
  }
 },
 "nbformat": 4,
 "nbformat_minor": 5
}
